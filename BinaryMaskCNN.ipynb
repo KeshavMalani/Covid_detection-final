{
  "nbformat": 4,
  "nbformat_minor": 0,
  "metadata": {
    "colab": {
      "provenance": []
    },
    "kernelspec": {
      "name": "python3",
      "display_name": "Python 3"
    },
    "language_info": {
      "name": "python"
    },
    "accelerator": "GPU",
    "gpuClass": "standard"
  },
  "cells": [
    {
      "cell_type": "markdown",
      "metadata": {
        "id": "d4qqnpTeoxB2"
      },
      "source": [
        "##Importing necessary libraries"
      ]
    },
    {
      "cell_type": "code",
      "execution_count": 1,
      "metadata": {
        "colab": {
          "base_uri": "https://localhost:8080/"
        },
        "id": "rjDQ7ge2cFLh",
        "outputId": "55e39617-7cc7-4b18-8f6a-6a3f1ff06120"
      },
      "outputs": [
        {
          "output_type": "stream",
          "name": "stdout",
          "text": [
            "Looking in indexes: https://pypi.org/simple, https://us-python.pkg.dev/colab-wheels/public/simple/\n",
            "Requirement already satisfied: livelossplot in /usr/local/lib/python3.10/dist-packages (0.5.5)\n",
            "Requirement already satisfied: bokeh in /usr/local/lib/python3.10/dist-packages (from livelossplot) (2.4.3)\n",
            "Requirement already satisfied: matplotlib in /usr/local/lib/python3.10/dist-packages (from livelossplot) (3.7.1)\n",
            "Requirement already satisfied: numpy>=1.11.3 in /usr/local/lib/python3.10/dist-packages (from bokeh->livelossplot) (1.22.4)\n",
            "Requirement already satisfied: packaging>=16.8 in /usr/local/lib/python3.10/dist-packages (from bokeh->livelossplot) (23.1)\n",
            "Requirement already satisfied: Jinja2>=2.9 in /usr/local/lib/python3.10/dist-packages (from bokeh->livelossplot) (3.1.2)\n",
            "Requirement already satisfied: PyYAML>=3.10 in /usr/local/lib/python3.10/dist-packages (from bokeh->livelossplot) (6.0)\n",
            "Requirement already satisfied: pillow>=7.1.0 in /usr/local/lib/python3.10/dist-packages (from bokeh->livelossplot) (8.4.0)\n",
            "Requirement already satisfied: typing-extensions>=3.10.0 in /usr/local/lib/python3.10/dist-packages (from bokeh->livelossplot) (4.5.0)\n",
            "Requirement already satisfied: tornado>=5.1 in /usr/local/lib/python3.10/dist-packages (from bokeh->livelossplot) (6.2)\n",
            "Requirement already satisfied: cycler>=0.10 in /usr/local/lib/python3.10/dist-packages (from matplotlib->livelossplot) (0.11.0)\n",
            "Requirement already satisfied: pyparsing>=2.3.1 in /usr/local/lib/python3.10/dist-packages (from matplotlib->livelossplot) (3.0.9)\n",
            "Requirement already satisfied: kiwisolver>=1.0.1 in /usr/local/lib/python3.10/dist-packages (from matplotlib->livelossplot) (1.4.4)\n",
            "Requirement already satisfied: python-dateutil>=2.7 in /usr/local/lib/python3.10/dist-packages (from matplotlib->livelossplot) (2.8.2)\n",
            "Requirement already satisfied: fonttools>=4.22.0 in /usr/local/lib/python3.10/dist-packages (from matplotlib->livelossplot) (4.39.3)\n",
            "Requirement already satisfied: contourpy>=1.0.1 in /usr/local/lib/python3.10/dist-packages (from matplotlib->livelossplot) (1.0.7)\n",
            "Requirement already satisfied: MarkupSafe>=2.0 in /usr/local/lib/python3.10/dist-packages (from Jinja2>=2.9->bokeh->livelossplot) (2.1.2)\n",
            "Requirement already satisfied: six>=1.5 in /usr/local/lib/python3.10/dist-packages (from python-dateutil>=2.7->matplotlib->livelossplot) (1.16.0)\n"
          ]
        }
      ],
      "source": [
        "pip install livelossplot"
      ]
    },
    {
      "cell_type": "code",
      "execution_count": 2,
      "metadata": {
        "id": "iOXouTyIb6lR"
      },
      "outputs": [],
      "source": [
        "import warnings\n",
        "warnings.simplefilter(action='ignore', category=FutureWarning)\n",
        "import os\n",
        "import numpy as np\n",
        "import pandas as pd\n",
        "import cv2\n",
        "import keras\n",
        "import matplotlib.pyplot as plt\n",
        "from livelossplot.inputs.keras import PlotLossesCallback\n",
        "from keras.callbacks import ModelCheckpoint, EarlyStopping\n",
        "from sklearn.model_selection import train_test_split\n",
        "from keras.preprocessing import image\n",
        "from tensorflow.keras import layers, models\n",
        "import tensorflow as tf\n",
        "from sklearn.metrics import confusion_matrix, ConfusionMatrixDisplay, classification_report, recall_score, accuracy_score, precision_score, f1_score\n",
        "from sklearn.discriminant_analysis import LinearDiscriminantAnalysis"
      ]
    },
    {
      "cell_type": "code",
      "execution_count": 3,
      "metadata": {
        "id": "AslK_gCZszRQ"
      },
      "outputs": [],
      "source": [
        "import os\n",
        "os.environ['KAGGLE_USERNAME'] = \"keshavmalanib21cs038\"\n",
        "os.environ['KAGGLE_KEY']= \"5288201eb4ec1af8506e61aee9641f85\"\n"
      ]
    },
    {
      "cell_type": "markdown",
      "metadata": {
        "id": "qVSl7NVibHj7"
      },
      "source": [
        "##Downloading the data "
      ]
    },
    {
      "cell_type": "code",
      "execution_count": 4,
      "metadata": {
        "colab": {
          "base_uri": "https://localhost:8080/"
        },
        "id": "hyv_oxhHtNAn",
        "outputId": "26a713a3-955f-4ee3-8046-85860063c481"
      },
      "outputs": [
        {
          "output_type": "stream",
          "name": "stdout",
          "text": [
            "covid19-radiography-database.zip: Skipping, found more recently modified local copy (use --force to force download)\n"
          ]
        }
      ],
      "source": [
        "!kaggle datasets download tawsifurrahman/covid19-radiography-database"
      ]
    },
    {
      "cell_type": "code",
      "execution_count": 5,
      "metadata": {
        "colab": {
          "base_uri": "https://localhost:8080/"
        },
        "id": "XuIuWgWwtcaN",
        "outputId": "fe3ca187-4ef2-4415-f2fb-a10a1651c920"
      },
      "outputs": [
        {
          "output_type": "stream",
          "name": "stdout",
          "text": [
            "Archive:  covid19-radiography-database.zip\n",
            "replace COVID-19_Radiography_Dataset/COVID.metadata.xlsx? [y]es, [n]o, [A]ll, [N]one, [r]ename: "
          ]
        }
      ],
      "source": [
        "!unzip covid19-radiography-database.zip"
      ]
    },
    {
      "cell_type": "markdown",
      "metadata": {
        "id": "8eLM32tHbN2-"
      },
      "source": [
        "##Reading the data"
      ]
    },
    {
      "cell_type": "code",
      "execution_count": 4,
      "metadata": {
        "id": "FZxoDrs4hqiU"
      },
      "outputs": [],
      "source": [
        "l=['COVID','Lung_Opacity','Normal','Viral Pneumonia']"
      ]
    },
    {
      "cell_type": "code",
      "execution_count": 5,
      "metadata": {
        "id": "yLJgJUUOprH-"
      },
      "outputs": [],
      "source": [
        "img_path=[]\n",
        "mask_path=[]\n",
        "label=[]"
      ]
    },
    {
      "cell_type": "code",
      "execution_count": 6,
      "metadata": {
        "id": "s4IyndDLh3vk"
      },
      "outputs": [],
      "source": [
        "for i in l:\n",
        "  k=os.listdir(\"COVID-19_Radiography_Dataset/\"+ i + \"/images\")\n",
        "  m=os.listdir(\"COVID-19_Radiography_Dataset/\"+ i + \"/masks\")\n",
        "  for j in range(len(k)):\n",
        "    # print(j)\n",
        "    img_path.append(\"COVID-19_Radiography_Dataset/\"+ i + \"/images/\"+k[j])\n",
        "    mask_path.append(\"COVID-19_Radiography_Dataset/\"+ i + \"/masks/\"+m[j])\n",
        "    label.append(i)"
      ]
    },
    {
      "cell_type": "code",
      "execution_count": 7,
      "metadata": {
        "colab": {
          "base_uri": "https://localhost:8080/",
          "height": 423
        },
        "id": "EnPqaLFZl37N",
        "outputId": "2e0abe33-c00c-43dc-c36c-f35ab0b8614e"
      },
      "outputs": [
        {
          "output_type": "execute_result",
          "data": {
            "text/plain": [
              "                                              image_file  \\\n",
              "0      COVID-19_Radiography_Dataset/COVID/images/COVI...   \n",
              "1      COVID-19_Radiography_Dataset/COVID/images/COVI...   \n",
              "2      COVID-19_Radiography_Dataset/COVID/images/COVI...   \n",
              "3      COVID-19_Radiography_Dataset/COVID/images/COVI...   \n",
              "4      COVID-19_Radiography_Dataset/COVID/images/COVI...   \n",
              "...                                                  ...   \n",
              "21160  COVID-19_Radiography_Dataset/Viral Pneumonia/i...   \n",
              "21161  COVID-19_Radiography_Dataset/Viral Pneumonia/i...   \n",
              "21162  COVID-19_Radiography_Dataset/Viral Pneumonia/i...   \n",
              "21163  COVID-19_Radiography_Dataset/Viral Pneumonia/i...   \n",
              "21164  COVID-19_Radiography_Dataset/Viral Pneumonia/i...   \n",
              "\n",
              "                                               mask_file            label  \n",
              "0      COVID-19_Radiography_Dataset/COVID/masks/COVID...            COVID  \n",
              "1      COVID-19_Radiography_Dataset/COVID/masks/COVID...            COVID  \n",
              "2      COVID-19_Radiography_Dataset/COVID/masks/COVID...            COVID  \n",
              "3      COVID-19_Radiography_Dataset/COVID/masks/COVID...            COVID  \n",
              "4      COVID-19_Radiography_Dataset/COVID/masks/COVID...            COVID  \n",
              "...                                                  ...              ...  \n",
              "21160  COVID-19_Radiography_Dataset/Viral Pneumonia/m...  Viral Pneumonia  \n",
              "21161  COVID-19_Radiography_Dataset/Viral Pneumonia/m...  Viral Pneumonia  \n",
              "21162  COVID-19_Radiography_Dataset/Viral Pneumonia/m...  Viral Pneumonia  \n",
              "21163  COVID-19_Radiography_Dataset/Viral Pneumonia/m...  Viral Pneumonia  \n",
              "21164  COVID-19_Radiography_Dataset/Viral Pneumonia/m...  Viral Pneumonia  \n",
              "\n",
              "[21165 rows x 3 columns]"
            ],
            "text/html": [
              "\n",
              "  <div id=\"df-6b7ed9be-07ef-4295-bab8-f8d427fcf7b7\">\n",
              "    <div class=\"colab-df-container\">\n",
              "      <div>\n",
              "<style scoped>\n",
              "    .dataframe tbody tr th:only-of-type {\n",
              "        vertical-align: middle;\n",
              "    }\n",
              "\n",
              "    .dataframe tbody tr th {\n",
              "        vertical-align: top;\n",
              "    }\n",
              "\n",
              "    .dataframe thead th {\n",
              "        text-align: right;\n",
              "    }\n",
              "</style>\n",
              "<table border=\"1\" class=\"dataframe\">\n",
              "  <thead>\n",
              "    <tr style=\"text-align: right;\">\n",
              "      <th></th>\n",
              "      <th>image_file</th>\n",
              "      <th>mask_file</th>\n",
              "      <th>label</th>\n",
              "    </tr>\n",
              "  </thead>\n",
              "  <tbody>\n",
              "    <tr>\n",
              "      <th>0</th>\n",
              "      <td>COVID-19_Radiography_Dataset/COVID/images/COVI...</td>\n",
              "      <td>COVID-19_Radiography_Dataset/COVID/masks/COVID...</td>\n",
              "      <td>COVID</td>\n",
              "    </tr>\n",
              "    <tr>\n",
              "      <th>1</th>\n",
              "      <td>COVID-19_Radiography_Dataset/COVID/images/COVI...</td>\n",
              "      <td>COVID-19_Radiography_Dataset/COVID/masks/COVID...</td>\n",
              "      <td>COVID</td>\n",
              "    </tr>\n",
              "    <tr>\n",
              "      <th>2</th>\n",
              "      <td>COVID-19_Radiography_Dataset/COVID/images/COVI...</td>\n",
              "      <td>COVID-19_Radiography_Dataset/COVID/masks/COVID...</td>\n",
              "      <td>COVID</td>\n",
              "    </tr>\n",
              "    <tr>\n",
              "      <th>3</th>\n",
              "      <td>COVID-19_Radiography_Dataset/COVID/images/COVI...</td>\n",
              "      <td>COVID-19_Radiography_Dataset/COVID/masks/COVID...</td>\n",
              "      <td>COVID</td>\n",
              "    </tr>\n",
              "    <tr>\n",
              "      <th>4</th>\n",
              "      <td>COVID-19_Radiography_Dataset/COVID/images/COVI...</td>\n",
              "      <td>COVID-19_Radiography_Dataset/COVID/masks/COVID...</td>\n",
              "      <td>COVID</td>\n",
              "    </tr>\n",
              "    <tr>\n",
              "      <th>...</th>\n",
              "      <td>...</td>\n",
              "      <td>...</td>\n",
              "      <td>...</td>\n",
              "    </tr>\n",
              "    <tr>\n",
              "      <th>21160</th>\n",
              "      <td>COVID-19_Radiography_Dataset/Viral Pneumonia/i...</td>\n",
              "      <td>COVID-19_Radiography_Dataset/Viral Pneumonia/m...</td>\n",
              "      <td>Viral Pneumonia</td>\n",
              "    </tr>\n",
              "    <tr>\n",
              "      <th>21161</th>\n",
              "      <td>COVID-19_Radiography_Dataset/Viral Pneumonia/i...</td>\n",
              "      <td>COVID-19_Radiography_Dataset/Viral Pneumonia/m...</td>\n",
              "      <td>Viral Pneumonia</td>\n",
              "    </tr>\n",
              "    <tr>\n",
              "      <th>21162</th>\n",
              "      <td>COVID-19_Radiography_Dataset/Viral Pneumonia/i...</td>\n",
              "      <td>COVID-19_Radiography_Dataset/Viral Pneumonia/m...</td>\n",
              "      <td>Viral Pneumonia</td>\n",
              "    </tr>\n",
              "    <tr>\n",
              "      <th>21163</th>\n",
              "      <td>COVID-19_Radiography_Dataset/Viral Pneumonia/i...</td>\n",
              "      <td>COVID-19_Radiography_Dataset/Viral Pneumonia/m...</td>\n",
              "      <td>Viral Pneumonia</td>\n",
              "    </tr>\n",
              "    <tr>\n",
              "      <th>21164</th>\n",
              "      <td>COVID-19_Radiography_Dataset/Viral Pneumonia/i...</td>\n",
              "      <td>COVID-19_Radiography_Dataset/Viral Pneumonia/m...</td>\n",
              "      <td>Viral Pneumonia</td>\n",
              "    </tr>\n",
              "  </tbody>\n",
              "</table>\n",
              "<p>21165 rows × 3 columns</p>\n",
              "</div>\n",
              "      <button class=\"colab-df-convert\" onclick=\"convertToInteractive('df-6b7ed9be-07ef-4295-bab8-f8d427fcf7b7')\"\n",
              "              title=\"Convert this dataframe to an interactive table.\"\n",
              "              style=\"display:none;\">\n",
              "        \n",
              "  <svg xmlns=\"http://www.w3.org/2000/svg\" height=\"24px\"viewBox=\"0 0 24 24\"\n",
              "       width=\"24px\">\n",
              "    <path d=\"M0 0h24v24H0V0z\" fill=\"none\"/>\n",
              "    <path d=\"M18.56 5.44l.94 2.06.94-2.06 2.06-.94-2.06-.94-.94-2.06-.94 2.06-2.06.94zm-11 1L8.5 8.5l.94-2.06 2.06-.94-2.06-.94L8.5 2.5l-.94 2.06-2.06.94zm10 10l.94 2.06.94-2.06 2.06-.94-2.06-.94-.94-2.06-.94 2.06-2.06.94z\"/><path d=\"M17.41 7.96l-1.37-1.37c-.4-.4-.92-.59-1.43-.59-.52 0-1.04.2-1.43.59L10.3 9.45l-7.72 7.72c-.78.78-.78 2.05 0 2.83L4 21.41c.39.39.9.59 1.41.59.51 0 1.02-.2 1.41-.59l7.78-7.78 2.81-2.81c.8-.78.8-2.07 0-2.86zM5.41 20L4 18.59l7.72-7.72 1.47 1.35L5.41 20z\"/>\n",
              "  </svg>\n",
              "      </button>\n",
              "      \n",
              "  <style>\n",
              "    .colab-df-container {\n",
              "      display:flex;\n",
              "      flex-wrap:wrap;\n",
              "      gap: 12px;\n",
              "    }\n",
              "\n",
              "    .colab-df-convert {\n",
              "      background-color: #E8F0FE;\n",
              "      border: none;\n",
              "      border-radius: 50%;\n",
              "      cursor: pointer;\n",
              "      display: none;\n",
              "      fill: #1967D2;\n",
              "      height: 32px;\n",
              "      padding: 0 0 0 0;\n",
              "      width: 32px;\n",
              "    }\n",
              "\n",
              "    .colab-df-convert:hover {\n",
              "      background-color: #E2EBFA;\n",
              "      box-shadow: 0px 1px 2px rgba(60, 64, 67, 0.3), 0px 1px 3px 1px rgba(60, 64, 67, 0.15);\n",
              "      fill: #174EA6;\n",
              "    }\n",
              "\n",
              "    [theme=dark] .colab-df-convert {\n",
              "      background-color: #3B4455;\n",
              "      fill: #D2E3FC;\n",
              "    }\n",
              "\n",
              "    [theme=dark] .colab-df-convert:hover {\n",
              "      background-color: #434B5C;\n",
              "      box-shadow: 0px 1px 3px 1px rgba(0, 0, 0, 0.15);\n",
              "      filter: drop-shadow(0px 1px 2px rgba(0, 0, 0, 0.3));\n",
              "      fill: #FFFFFF;\n",
              "    }\n",
              "  </style>\n",
              "\n",
              "      <script>\n",
              "        const buttonEl =\n",
              "          document.querySelector('#df-6b7ed9be-07ef-4295-bab8-f8d427fcf7b7 button.colab-df-convert');\n",
              "        buttonEl.style.display =\n",
              "          google.colab.kernel.accessAllowed ? 'block' : 'none';\n",
              "\n",
              "        async function convertToInteractive(key) {\n",
              "          const element = document.querySelector('#df-6b7ed9be-07ef-4295-bab8-f8d427fcf7b7');\n",
              "          const dataTable =\n",
              "            await google.colab.kernel.invokeFunction('convertToInteractive',\n",
              "                                                     [key], {});\n",
              "          if (!dataTable) return;\n",
              "\n",
              "          const docLinkHtml = 'Like what you see? Visit the ' +\n",
              "            '<a target=\"_blank\" href=https://colab.research.google.com/notebooks/data_table.ipynb>data table notebook</a>'\n",
              "            + ' to learn more about interactive tables.';\n",
              "          element.innerHTML = '';\n",
              "          dataTable['output_type'] = 'display_data';\n",
              "          await google.colab.output.renderOutput(dataTable, element);\n",
              "          const docLink = document.createElement('div');\n",
              "          docLink.innerHTML = docLinkHtml;\n",
              "          element.appendChild(docLink);\n",
              "        }\n",
              "      </script>\n",
              "    </div>\n",
              "  </div>\n",
              "  "
            ]
          },
          "metadata": {},
          "execution_count": 7
        }
      ],
      "source": [
        "df=pd.DataFrame(img_path,columns = ['image_file'])\n",
        "df['mask_file']=mask_path\n",
        "df['label']=label\n",
        "df"
      ]
    },
    {
      "cell_type": "markdown",
      "source": [
        "#Preprocessing and loading the data"
      ],
      "metadata": {
        "id": "YfiO7-0YF_Px"
      }
    },
    {
      "cell_type": "code",
      "execution_count": 8,
      "metadata": {
        "id": "nJ5HfV43nqpp"
      },
      "outputs": [],
      "source": [
        "x=[]\n",
        "y=[]\n",
        "for i in range(len(df)):\n",
        "    image = cv2.imread(df['image_file'][i])\n",
        "    image = cv2.resize(image, (80, 80))\n",
        "    mask=cv2.imread(df['mask_file'][i])\n",
        "    mask=cv2.resize(mask, (80, 80))\n",
        "    # mask=cv2.cvtColor(mask, cv2.COLOR_BGR2GRAY) \n",
        "    masked=cv2.bitwise_and(image,mask)\n",
        "    masked=masked/255.0\n",
        "    # masked=cv2.cvtColor(masked, cv2.COLOR_BGR2GRAY)/255.0\n",
        "    label = 0\n",
        "    # label2= 0\n",
        "    if df['label'][i] == \"Normal\":\n",
        "        label = 0\n",
        "        # label2=0\n",
        "    elif df['label'][i] == \"COVID\":\n",
        "        label = 1\n",
        "        # label2= 1\n",
        "    elif df['label'][i] == \"Lung_Opacity\":\n",
        "        label = 0\n",
        "        # label2=0\n",
        "    else:\n",
        "        label = 0\n",
        "        # labwl2= 0\n",
        "    x.append(masked)\n",
        "    y.append(label)\n",
        "    # y2.append(label2)"
      ]
    },
    {
      "cell_type": "code",
      "source": [
        "plt.imshow(x[0])"
      ],
      "metadata": {
        "colab": {
          "base_uri": "https://localhost:8080/",
          "height": 450
        },
        "id": "_oGxHmTKJxsC",
        "outputId": "69dfb529-a8df-48ad-d36a-a64ca7351f76"
      },
      "execution_count": 11,
      "outputs": [
        {
          "output_type": "execute_result",
          "data": {
            "text/plain": [
              "<matplotlib.image.AxesImage at 0x7fe8164a73d0>"
            ]
          },
          "metadata": {},
          "execution_count": 11
        },
        {
          "output_type": "display_data",
          "data": {
            "text/plain": [
              "<Figure size 640x480 with 1 Axes>"
            ],
            "image/png": "[encoded data removed]"
          },
          "metadata": {}
        }
      ]
    },
    {
      "cell_type": "code",
      "execution_count": 9,
      "metadata": {
        "colab": {
          "base_uri": "https://localhost:8080/"
        },
        "id": "ZFklNATkkanF",
        "outputId": "17ff7d72-758f-46ed-e12a-0c2c5f2d8bbf"
      },
      "outputs": [
        {
          "output_type": "stream",
          "name": "stdout",
          "text": [
            "(15238, 80, 80, 3) (4233, 80, 80, 3) (1694, 80, 80, 3) (15238,) (4233,) (1694,)\n"
          ]
        }
      ],
      "source": [
        "x = np.array(x)\n",
        "y = np.array(y)\n",
        "# y2 = np.array(y2)\n",
        " \n",
        "\n",
        "x_train, x_test, y_train, y_test = train_test_split(x, y, test_size = 0.2, random_state = 42)\n",
        "x_train, x_val, y_train, y_val = train_test_split(x_train, y_train, test_size = 0.1, random_state = 42)\n",
        "\n",
        "print(x_train.shape, x_test.shape, x_val.shape, y_train.shape, y_test.shape, y_val.shape)"
      ]
    },
    {
      "cell_type": "code",
      "execution_count": 10,
      "metadata": {
        "id": "EMJIxIU6-NUb"
      },
      "outputs": [],
      "source": [
        "del x\n",
        "del y"
      ]
    },
    {
      "cell_type": "markdown",
      "source": [
        "#Creating the model"
      ],
      "metadata": {
        "id": "o1PGzlMyGE6z"
      }
    },
    {
      "cell_type": "code",
      "execution_count": 11,
      "metadata": {
        "id": "p8sa8IwvStLI"
      },
      "outputs": [],
      "source": [
        "def create_model(n_classes, train_shape):\n",
        "    cnn_model = models.Sequential()\n",
        "    cnn_model.add(layers.Conv2D(filters = 16, kernel_size = (3, 3), activation = 'relu', input_shape = train_shape))\n",
        "    cnn_model.add(layers.MaxPooling2D((2, 2)))\n",
        "    cnn_model.add(layers.Dropout(0.3))\n",
        "\n",
        "    cnn_model.add(layers.Conv2D(filters = 32, kernel_size = (3, 3), activation = 'relu'))\n",
        "    cnn_model.add(layers.MaxPooling2D((2, 2)))\n",
        "    cnn_model.add(layers.Dropout(0.5))\n",
        "\n",
        "    cnn_model.add(layers.Conv2D(filters = 64, kernel_size = (3, 3), activation = 'relu'))\n",
        "    cnn_model.add(layers.MaxPooling2D((2, 2)))\n",
        "    cnn_model.add(layers.Flatten())\n",
        "    cnn_model.add(layers.Dense(units = 256, activation = 'relu'))\n",
        "    \n",
        "    cnn_model.add(layers.Dropout(0.2))\n",
        "    cnn_model.add(layers.Dense(units = 64, activation = 'relu'))\n",
        "\n",
        "    cnn_model.add(layers.Dense(units = 32,activation='relu'))\n",
        "    cnn_model.add(layers.Dense(units = 2))\n",
        "    cnn_model.compile(optimizer = 'adam', \n",
        "               loss = tf.keras.losses.SparseCategoricalCrossentropy(from_logits = True), \n",
        "               metrics = ['accuracy'])\n",
        "\n",
        "    cnn_model.summary()\n",
        "    return cnn_model"
      ]
    },
    {
      "cell_type": "code",
      "execution_count": 12,
      "metadata": {
        "colab": {
          "base_uri": "https://localhost:8080/"
        },
        "id": "gn5TtDUxjunn",
        "outputId": "6fe8f01a-9d0a-4afa-d9b2-d1429af247eb"
      },
      "outputs": [
        {
          "output_type": "stream",
          "name": "stdout",
          "text": [
            "Model: \"sequential\"\n",
            "_________________________________________________________________\n",
            " Layer (type)                Output Shape              Param #   \n",
            "=================================================================\n",
            " conv2d (Conv2D)             (None, 78, 78, 16)        448       \n",
            "                                                                 \n",
            " max_pooling2d (MaxPooling2D  (None, 39, 39, 16)       0         \n",
            " )                                                               \n",
            "                                                                 \n",
            " dropout (Dropout)           (None, 39, 39, 16)        0         \n",
            "                                                                 \n",
            " conv2d_1 (Conv2D)           (None, 37, 37, 32)        4640      \n",
            "                                                                 \n",
            " max_pooling2d_1 (MaxPooling  (None, 18, 18, 32)       0         \n",
            " 2D)                                                             \n",
            "                                                                 \n",
            " dropout_1 (Dropout)         (None, 18, 18, 32)        0         \n",
            "                                                                 \n",
            " conv2d_2 (Conv2D)           (None, 16, 16, 64)        18496     \n",
            "                                                                 \n",
            " max_pooling2d_2 (MaxPooling  (None, 8, 8, 64)         0         \n",
            " 2D)                                                             \n",
            "                                                                 \n",
            " flatten (Flatten)           (None, 4096)              0         \n",
            "                                                                 \n",
            " dense (Dense)               (None, 256)               1048832   \n",
            "                                                                 \n",
            " dropout_2 (Dropout)         (None, 256)               0         \n",
            "                                                                 \n",
            " dense_1 (Dense)             (None, 64)                16448     \n",
            "                                                                 \n",
            " dense_2 (Dense)             (None, 32)                2080      \n",
            "                                                                 \n",
            " dense_3 (Dense)             (None, 2)                 66        \n",
            "                                                                 \n",
            "=================================================================\n",
            "Total params: 1,091,010\n",
            "Trainable params: 1,091,010\n",
            "Non-trainable params: 0\n",
            "_________________________________________________________________\n"
          ]
        }
      ],
      "source": [
        "input_shape = (80, 80,3)\n",
        "n_classes= 2\n",
        "\n",
        "conv_model2 = create_model(n_classes, input_shape)"
      ]
    },
    {
      "cell_type": "markdown",
      "source": [
        "#Running the model"
      ],
      "metadata": {
        "id": "dznF0WW9GK2N"
      }
    },
    {
      "cell_type": "code",
      "execution_count": 14,
      "metadata": {
        "id": "_Exwg81MTrDP"
      },
      "outputs": [],
      "source": [
        "plot_loss_2 = PlotLossesCallback()\n",
        "\n",
        "tl_checkpoint_1 = ModelCheckpoint(filepath='tl_model_v1.weights.best.hdf5',\n",
        "                                  save_best_only=True,\n",
        "                                  verbose=1)\n",
        "\n",
        "early_stop = EarlyStopping(monitor='val_loss',\n",
        "                           patience=10,\n",
        "                           restore_best_weights=True,\n",
        "                           mode='min')"
      ]
    },
    {
      "cell_type": "code",
      "execution_count": 15,
      "metadata": {
        "colab": {
          "base_uri": "https://localhost:8080/",
          "height": 963
        },
        "id": "vQDeKlKPTxML",
        "outputId": "a73b2155-75e9-477a-cb4d-13f166909ba0"
      },
      "outputs": [
        {
          "output_type": "display_data",
          "data": {
            "text/plain": [
              "<Figure size 1200x800 with 2 Axes>"
            ],
            "image/png": "[encoded data removed]"
          },
          "metadata": {}
        },
        {
          "output_type": "stream",
          "name": "stdout",
          "text": [
            "accuracy\n",
            "\ttraining         \t (min:    0.824, max:    0.951, cur:    0.951)\n",
            "\tvalidation       \t (min:    0.837, max:    0.908, cur:    0.895)\n",
            "Loss\n",
            "\ttraining         \t (min:    0.124, max:    0.460, cur:    0.124)\n",
            "\tvalidation       \t (min:    0.228, max:    0.420, cur:    0.313)\n",
            "\b\b\b\b\b\b\b\b\b\b\b\b\b\b\b\b\b\b\b\b\b\b\b\b\b\b\b\b\b\b\b\b\b\b\b\b\b\b\b\b\b\b\b\b\b\b\b\b\b\b\b\b\b\b\b\b\b\b\b\b\b\b\b\b\b\b\b\b\b\b\b\b\b\b\b\b\b\b\b\b\b\b\b\b\r239/239 [==============================] - 3s 14ms/step - loss: 0.1241 - accuracy: 0.9510 - val_loss: 0.3132 - val_accuracy: 0.8949\n",
            "CPU times: user 1min 47s, sys: 10.5 s, total: 1min 57s\n",
            "Wall time: 1min 59s\n"
          ]
        }
      ],
      "source": [
        "%%time\n",
        "\n",
        "plot_loss_2 = PlotLossesCallback()\n",
        "\n",
        "conv_history = conv_model2.fit(x_train, y_train, \n",
        "                        epochs = 50, batch_size = 64,  \n",
        "                        validation_data = (x_val, y_val), \n",
        "                        callbacks = [tl_checkpoint_1, early_stop, plot_loss_2],\n",
        "                       verbose=1)"
      ]
    },
    {
      "cell_type": "markdown",
      "source": [
        "#Evaluating the model"
      ],
      "metadata": {
        "id": "0FUNhvx0CnlN"
      }
    },
    {
      "cell_type": "code",
      "source": [
        "yp_train = conv_model2.predict(x_train)\n",
        "yp_train = np.argmax(yp_train, axis = 1)\n",
        "\n",
        "yp_val = conv_model2.predict(x_val)\n",
        "yp_val = np.argmax(yp_val, axis = 1)\n",
        "\n",
        "yp_test = conv_model2.predict(x_test)\n",
        "yp_test = np.argmax(yp_test, axis = 1)"
      ],
      "metadata": {
        "id": "u73QWme3A7Hv",
        "colab": {
          "base_uri": "https://localhost:8080/"
        },
        "outputId": "33817fd5-b61f-4de9-bd6d-e9114c07d11a"
      },
      "execution_count": 16,
      "outputs": [
        {
          "output_type": "stream",
          "name": "stdout",
          "text": [
            "477/477 [==============================] - 1s 3ms/step\n",
            "53/53 [==============================] - 0s 3ms/step\n",
            "133/133 [==============================] - 0s 3ms/step\n"
          ]
        }
      ]
    },
    {
      "cell_type": "code",
      "source": [
        "def confusion_matrix_train_test_val(name, y_train, yp_train, y_val, yp_val, y_test, yp_test):\n",
        "    \n",
        "    print(\"\\n-----------------------------{}-----------------------------\\n\".format(name))\n",
        "    \n",
        "    \n",
        "    print(\"Classification Report for Train Data\\n\")\n",
        "    print(classification_report(y_train, yp_train)) \n",
        "    print(\"--------------------------------------------------------------------------\")\n",
        "    \n",
        "    print(\"\\nClassification Report for Validation Data\\n\")\n",
        "    print(classification_report(y_val, yp_val))   \n",
        "    print(\"--------------------------------------------------------------------------\")\n",
        "\n",
        "    \n",
        "    print(\"\\nClassification Report for Test Data\\n\")\n",
        "    print(classification_report(y_test, yp_test))   \n",
        "    print(\"--------------------------------------------------------------------------\")\n"
      ],
      "metadata": {
        "id": "hPQcGY0ABC8L"
      },
      "execution_count": 17,
      "outputs": []
    },
    {
      "cell_type": "code",
      "source": [
        "confusion_matrix_train_test_val(\"CNN\", y_train, yp_train, y_val, yp_val, y_test, yp_test)"
      ],
      "metadata": {
        "id": "08JHcF4RBF8S",
        "colab": {
          "base_uri": "https://localhost:8080/"
        },
        "outputId": "eb2e881e-e56c-4b3c-c226-7af647015351"
      },
      "execution_count": 18,
      "outputs": [
        {
          "output_type": "stream",
          "name": "stdout",
          "text": [
            "\n",
            "-----------------------------CNN-----------------------------\n",
            "\n",
            "Classification Report for Train Data\n",
            "\n",
            "              precision    recall  f1-score   support\n",
            "\n",
            "           0       0.96      0.99      0.98     12599\n",
            "           1       0.95      0.80      0.87      2639\n",
            "\n",
            "    accuracy                           0.96     15238\n",
            "   macro avg       0.95      0.90      0.92     15238\n",
            "weighted avg       0.96      0.96      0.96     15238\n",
            "\n",
            "--------------------------------------------------------------------------\n",
            "\n",
            "Classification Report for Validation Data\n",
            "\n",
            "              precision    recall  f1-score   support\n",
            "\n",
            "           0       0.92      0.96      0.94      1418\n",
            "           1       0.74      0.58      0.65       276\n",
            "\n",
            "    accuracy                           0.90      1694\n",
            "   macro avg       0.83      0.77      0.80      1694\n",
            "weighted avg       0.89      0.90      0.89      1694\n",
            "\n",
            "--------------------------------------------------------------------------\n",
            "\n",
            "Classification Report for Test Data\n",
            "\n",
            "              precision    recall  f1-score   support\n",
            "\n",
            "           0       0.92      0.97      0.95      3532\n",
            "           1       0.80      0.58      0.68       701\n",
            "\n",
            "    accuracy                           0.91      4233\n",
            "   macro avg       0.86      0.78      0.81      4233\n",
            "weighted avg       0.90      0.91      0.90      4233\n",
            "\n",
            "--------------------------------------------------------------------------\n"
          ]
        }
      ]
    }
  ]
}